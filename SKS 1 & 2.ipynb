{
  "nbformat": 4,
  "nbformat_minor": 0,
  "metadata": {
    "colab": {
      "name": "SKS.ipynb",
      "provenance": [],
      "collapsed_sections": [],
      "toc_visible": true
    },
    "kernelspec": {
      "name": "python3",
      "display_name": "Python 3"
    }
  },
  "cells": [
    {
      "cell_type": "markdown",
      "metadata": {
        "id": "zZgUEoj4Wmta"
      },
      "source": [
        "## Exercise: 1"
      ]
    },
    {
      "cell_type": "code",
      "metadata": {
        "id": "A1WhFk4qDEKH"
      },
      "source": [
        "#import required modules\n",
        "try:\n",
        "  import pandas as pd\n",
        "  import numpy as np\n",
        "  import re\n",
        "\n",
        "except Exception as e:\n",
        "    print(\"Modules Missing {}\".format(e))"
      ],
      "execution_count": 1,
      "outputs": []
    },
    {
      "cell_type": "code",
      "metadata": {
        "id": "q6qYtjs2DaVY",
        "outputId": "99de4c26-be81-43e3-d43a-b9ddcf7afba4",
        "colab": {
          "base_uri": "https://localhost:8080/",
          "height": 264
        }
      },
      "source": [
        "# read the csv\n",
        "df = pd.read_csv('/content/coupons_ner.csv')\n",
        "df.head()"
      ],
      "execution_count": 2,
      "outputs": [
        {
          "output_type": "execute_result",
          "data": {
            "text/html": [
              "<div>\n",
              "<style scoped>\n",
              "    .dataframe tbody tr th:only-of-type {\n",
              "        vertical-align: middle;\n",
              "    }\n",
              "\n",
              "    .dataframe tbody tr th {\n",
              "        vertical-align: top;\n",
              "    }\n",
              "\n",
              "    .dataframe thead th {\n",
              "        text-align: right;\n",
              "    }\n",
              "</style>\n",
              "<table border=\"1\" class=\"dataframe\">\n",
              "  <thead>\n",
              "    <tr style=\"text-align: right;\">\n",
              "      <th></th>\n",
              "      <th>Save $2.00 ONE Downy Liquid Fabric Conditioner 72 ld or larger (includes Downy Odor Protect 48 oz or larger OR Downy Wrinkle Guard 40 oz or larger OR Downy Nature Blends 67 oz or larger) OR Bounce/Downy Sheets 130 ct or larger (includes Bounce/Downy Wrinkle Guard 80 ct or larger) OR In Wash Scent Boosters 8.6 oz or larger (includes Downy Unstopables, Fresh Protect, Odor Protect, and Infusions) (excludes Downy Libre Enjuague, Gain Fireworks, and trial/travel size).</th>\n",
              "    </tr>\n",
              "  </thead>\n",
              "  <tbody>\n",
              "    <tr>\n",
              "      <th>0</th>\n",
              "      <td>Save $2.00 ONE Tide PODS OR Tide Power PODS (e...</td>\n",
              "    </tr>\n",
              "    <tr>\n",
              "      <th>1</th>\n",
              "      <td>Save $2.00 ONE Tide Laundry Detergent (exclude...</td>\n",
              "    </tr>\n",
              "    <tr>\n",
              "      <th>2</th>\n",
              "      <td>SAVE $1.00 ON TWO when you buy TWO BOXES (8.9 ...</td>\n",
              "    </tr>\n",
              "    <tr>\n",
              "      <th>3</th>\n",
              "      <td>$3.00 OFF when you purchase any THREE (3) Pepp...</td>\n",
              "    </tr>\n",
              "    <tr>\n",
              "      <th>4</th>\n",
              "      <td>SAVE $1.11 when you buy any ONE (1) Familly Si...</td>\n",
              "    </tr>\n",
              "  </tbody>\n",
              "</table>\n",
              "</div>"
            ],
            "text/plain": [
              "  Save $2.00 ONE Downy Liquid Fabric Conditioner 72 ld or larger (includes Downy Odor Protect 48 oz or larger OR Downy Wrinkle Guard 40 oz or larger OR Downy Nature Blends 67 oz or larger) OR Bounce/Downy Sheets 130 ct or larger (includes Bounce/Downy Wrinkle Guard 80 ct or larger) OR In Wash Scent Boosters 8.6 oz or larger (includes Downy Unstopables, Fresh Protect, Odor Protect, and Infusions) (excludes Downy Libre Enjuague, Gain Fireworks, and trial/travel size).\n",
              "0  Save $2.00 ONE Tide PODS OR Tide Power PODS (e...                                                                                                                                                                                                                                                                                                                                                                                                                                  \n",
              "1  Save $2.00 ONE Tide Laundry Detergent (exclude...                                                                                                                                                                                                                                                                                                                                                                                                                                  \n",
              "2  SAVE $1.00 ON TWO when you buy TWO BOXES (8.9 ...                                                                                                                                                                                                                                                                                                                                                                                                                                  \n",
              "3  $3.00 OFF when you purchase any THREE (3) Pepp...                                                                                                                                                                                                                                                                                                                                                                                                                                  \n",
              "4  SAVE $1.11 when you buy any ONE (1) Familly Si...                                                                                                                                                                                                                                                                                                                                                                                                                                  "
            ]
          },
          "metadata": {
            "tags": []
          },
          "execution_count": 2
        }
      ]
    },
    {
      "cell_type": "code",
      "metadata": {
        "id": "4DP9EZiqQId7",
        "outputId": "07870e86-a11e-4027-9ebf-83caecdcf0b6",
        "colab": {
          "base_uri": "https://localhost:8080/",
          "height": 197
        }
      },
      "source": [
        "#conversion column names into first row\n",
        "df = pd.DataFrame(np.vstack([df.columns, df]))\n",
        "\n",
        "#rename the column to 'OfferDetails'\n",
        "df = df.rename(columns={0: \"OfferDetails\"})\n",
        "df.head()"
      ],
      "execution_count": 3,
      "outputs": [
        {
          "output_type": "execute_result",
          "data": {
            "text/html": [
              "<div>\n",
              "<style scoped>\n",
              "    .dataframe tbody tr th:only-of-type {\n",
              "        vertical-align: middle;\n",
              "    }\n",
              "\n",
              "    .dataframe tbody tr th {\n",
              "        vertical-align: top;\n",
              "    }\n",
              "\n",
              "    .dataframe thead th {\n",
              "        text-align: right;\n",
              "    }\n",
              "</style>\n",
              "<table border=\"1\" class=\"dataframe\">\n",
              "  <thead>\n",
              "    <tr style=\"text-align: right;\">\n",
              "      <th></th>\n",
              "      <th>OfferDetails</th>\n",
              "    </tr>\n",
              "  </thead>\n",
              "  <tbody>\n",
              "    <tr>\n",
              "      <th>0</th>\n",
              "      <td>Save $2.00 ONE Downy Liquid Fabric Conditioner...</td>\n",
              "    </tr>\n",
              "    <tr>\n",
              "      <th>1</th>\n",
              "      <td>Save $2.00 ONE Tide PODS OR Tide Power PODS (e...</td>\n",
              "    </tr>\n",
              "    <tr>\n",
              "      <th>2</th>\n",
              "      <td>Save $2.00 ONE Tide Laundry Detergent (exclude...</td>\n",
              "    </tr>\n",
              "    <tr>\n",
              "      <th>3</th>\n",
              "      <td>SAVE $1.00 ON TWO when you buy TWO BOXES (8.9 ...</td>\n",
              "    </tr>\n",
              "    <tr>\n",
              "      <th>4</th>\n",
              "      <td>$3.00 OFF when you purchase any THREE (3) Pepp...</td>\n",
              "    </tr>\n",
              "  </tbody>\n",
              "</table>\n",
              "</div>"
            ],
            "text/plain": [
              "                                        OfferDetails\n",
              "0  Save $2.00 ONE Downy Liquid Fabric Conditioner...\n",
              "1  Save $2.00 ONE Tide PODS OR Tide Power PODS (e...\n",
              "2  Save $2.00 ONE Tide Laundry Detergent (exclude...\n",
              "3  SAVE $1.00 ON TWO when you buy TWO BOXES (8.9 ...\n",
              "4  $3.00 OFF when you purchase any THREE (3) Pepp..."
            ]
          },
          "metadata": {
            "tags": []
          },
          "execution_count": 3
        }
      ]
    },
    {
      "cell_type": "code",
      "metadata": {
        "id": "u-CCoY7NqDr1"
      },
      "source": [
        "#Write a function that takes OfferDetails as input, and returns FaceValue as output\n",
        "def FaceValue_using_regex(df_text):\n",
        "  Face_Value = []\n",
        "  regex = r\"[$¢]\\s*[.,\\d]+|[.,\\d]+\\s*[¢$]\"\n",
        "  for i in df_text:\n",
        "    Face_Value.append(re.findall(regex, i, re.I)) # re.I: Performs case-insensitive matching.\n",
        "  \n",
        "  return Face_Value"
      ],
      "execution_count": 4,
      "outputs": []
    },
    {
      "cell_type": "code",
      "metadata": {
        "id": "kC0tOybTukX9"
      },
      "source": [
        "# FaceValue column is having all the price details\n",
        "df['FaceValue'] = [','.join(map(str, l)) for l in FaceValue_using_regex(df['OfferDetails'])]"
      ],
      "execution_count": 5,
      "outputs": []
    },
    {
      "cell_type": "code",
      "metadata": {
        "id": "b3vptGdeyi0d",
        "outputId": "1da0142c-f5bb-4fcd-b865-e89d61bd983d",
        "colab": {
          "base_uri": "https://localhost:8080/",
          "height": 197
        }
      },
      "source": [
        "df.tail()"
      ],
      "execution_count": 6,
      "outputs": [
        {
          "output_type": "execute_result",
          "data": {
            "text/html": [
              "<div>\n",
              "<style scoped>\n",
              "    .dataframe tbody tr th:only-of-type {\n",
              "        vertical-align: middle;\n",
              "    }\n",
              "\n",
              "    .dataframe tbody tr th {\n",
              "        vertical-align: top;\n",
              "    }\n",
              "\n",
              "    .dataframe thead th {\n",
              "        text-align: right;\n",
              "    }\n",
              "</style>\n",
              "<table border=\"1\" class=\"dataframe\">\n",
              "  <thead>\n",
              "    <tr style=\"text-align: right;\">\n",
              "      <th></th>\n",
              "      <th>OfferDetails</th>\n",
              "      <th>FaceValue</th>\n",
              "    </tr>\n",
              "  </thead>\n",
              "  <tbody>\n",
              "    <tr>\n",
              "      <th>881</th>\n",
              "      <td>SAVE $2.00 when you buy $7 worth of participat...</td>\n",
              "      <td>$2.00,$7</td>\n",
              "    </tr>\n",
              "    <tr>\n",
              "      <th>882</th>\n",
              "      <td>SAVE $5.00 on any Gain scented purchase of $30...</td>\n",
              "      <td>$5.00,$30</td>\n",
              "    </tr>\n",
              "    <tr>\n",
              "      <th>883</th>\n",
              "      <td>SAVE $1.00 when you buy any ONE (1) NEW AXE pr...</td>\n",
              "      <td>$1.00</td>\n",
              "    </tr>\n",
              "    <tr>\n",
              "      <th>884</th>\n",
              "      <td>BUY TWO GET ONE Buy ONE (1) CHIPS AHOY! Cookie...</td>\n",
              "      <td></td>\n",
              "    </tr>\n",
              "    <tr>\n",
              "      <th>885</th>\n",
              "      <td>SAVE $2.00 when you spend $6 on all Suave® pro...</td>\n",
              "      <td>$2.00,$6</td>\n",
              "    </tr>\n",
              "  </tbody>\n",
              "</table>\n",
              "</div>"
            ],
            "text/plain": [
              "                                          OfferDetails  FaceValue\n",
              "881  SAVE $2.00 when you buy $7 worth of participat...   $2.00,$7\n",
              "882  SAVE $5.00 on any Gain scented purchase of $30...  $5.00,$30\n",
              "883  SAVE $1.00 when you buy any ONE (1) NEW AXE pr...      $1.00\n",
              "884  BUY TWO GET ONE Buy ONE (1) CHIPS AHOY! Cookie...           \n",
              "885  SAVE $2.00 when you spend $6 on all Suave® pro...   $2.00,$6"
            ]
          },
          "metadata": {
            "tags": []
          },
          "execution_count": 6
        }
      ]
    },
    {
      "cell_type": "code",
      "metadata": {
        "id": "RpfXzzd1VxrL"
      },
      "source": [
        "# saving the dataframe \n",
        "df.to_csv('Coupons_FaceValue.csv', index=False)"
      ],
      "execution_count": 13,
      "outputs": []
    },
    {
      "cell_type": "markdown",
      "metadata": {
        "id": "iCCMNCh638EU"
      },
      "source": [
        "## Exercise: 2"
      ]
    },
    {
      "cell_type": "code",
      "metadata": {
        "id": "oMa7uaY34CRK",
        "outputId": "e90af834-d2f6-48ba-b1c8-f95c1e6ffa61",
        "colab": {
          "base_uri": "https://localhost:8080/",
          "height": 105
        }
      },
      "source": [
        "import spacy\n",
        "from spacy import displacy\n",
        "nlp = spacy.load('en')\n",
        "text = df['OfferDetails'][0]\n",
        "doc = nlp(text)\n",
        "\n",
        "displacy.serve(doc, style='ent')"
      ],
      "execution_count": 16,
      "outputs": [
        {
          "output_type": "stream",
          "text": [
            "\n",
            "Using the 'ent' visualizer\n",
            "Serving on http://0.0.0.0:5000 ...\n",
            "\n",
            "Shutting down server on port 5000.\n"
          ],
          "name": "stdout"
        }
      ]
    },
    {
      "cell_type": "code",
      "metadata": {
        "id": "0YELgjkYW062"
      },
      "source": [
        "#Applying SpaCy's EntityRecognizer to a column within a Pandas dataframe\n",
        "df['Product'] = df['OfferDetails'].apply(lambda x: nlp(x).ents)"
      ],
      "execution_count": 52,
      "outputs": []
    },
    {
      "cell_type": "code",
      "metadata": {
        "id": "Nnbdv7UDxYlp",
        "outputId": "d71b5544-210c-46e3-ab3e-a69e59eacacc",
        "colab": {
          "base_uri": "https://localhost:8080/",
          "height": 197
        }
      },
      "source": [
        "df.head()"
      ],
      "execution_count": 53,
      "outputs": [
        {
          "output_type": "execute_result",
          "data": {
            "text/html": [
              "<div>\n",
              "<style scoped>\n",
              "    .dataframe tbody tr th:only-of-type {\n",
              "        vertical-align: middle;\n",
              "    }\n",
              "\n",
              "    .dataframe tbody tr th {\n",
              "        vertical-align: top;\n",
              "    }\n",
              "\n",
              "    .dataframe thead th {\n",
              "        text-align: right;\n",
              "    }\n",
              "</style>\n",
              "<table border=\"1\" class=\"dataframe\">\n",
              "  <thead>\n",
              "    <tr style=\"text-align: right;\">\n",
              "      <th></th>\n",
              "      <th>OfferDetails</th>\n",
              "      <th>FaceValue</th>\n",
              "      <th>Product</th>\n",
              "    </tr>\n",
              "  </thead>\n",
              "  <tbody>\n",
              "    <tr>\n",
              "      <th>0</th>\n",
              "      <td>Save $2.00 ONE Downy Liquid Fabric Conditioner...</td>\n",
              "      <td>$2.00</td>\n",
              "      <td>((2.00), (Downy, Liquid, Fabric), (72), (Downy...</td>\n",
              "    </tr>\n",
              "    <tr>\n",
              "      <th>1</th>\n",
              "      <td>Save $2.00 ONE Tide PODS OR Tide Power PODS (e...</td>\n",
              "      <td>$2.00</td>\n",
              "      <td>((2.00), (Tide, Power, PODS), (Tide, Liquid, /...</td>\n",
              "    </tr>\n",
              "    <tr>\n",
              "      <th>2</th>\n",
              "      <td>Save $2.00 ONE Tide Laundry Detergent (exclude...</td>\n",
              "      <td>$2.00</td>\n",
              "      <td>((2.00), (Tide, Purclean, Laundry, Detergent),...</td>\n",
              "    </tr>\n",
              "    <tr>\n",
              "      <th>3</th>\n",
              "      <td>SAVE $1.00 ON TWO when you buy TWO BOXES (8.9 ...</td>\n",
              "      <td>$1.00</td>\n",
              "      <td>((1.00), (TWO), (TWO), (8.9, -, 15.2), (Genera...</td>\n",
              "    </tr>\n",
              "    <tr>\n",
              "      <th>4</th>\n",
              "      <td>$3.00 OFF when you purchase any THREE (3) Pepp...</td>\n",
              "      <td>$3.00</td>\n",
              "      <td>((3.00), (THREE), (3), (Pepperidge, Farm), (Fa...</td>\n",
              "    </tr>\n",
              "  </tbody>\n",
              "</table>\n",
              "</div>"
            ],
            "text/plain": [
              "                                        OfferDetails  ...                                            Product\n",
              "0  Save $2.00 ONE Downy Liquid Fabric Conditioner...  ...  ((2.00), (Downy, Liquid, Fabric), (72), (Downy...\n",
              "1  Save $2.00 ONE Tide PODS OR Tide Power PODS (e...  ...  ((2.00), (Tide, Power, PODS), (Tide, Liquid, /...\n",
              "2  Save $2.00 ONE Tide Laundry Detergent (exclude...  ...  ((2.00), (Tide, Purclean, Laundry, Detergent),...\n",
              "3  SAVE $1.00 ON TWO when you buy TWO BOXES (8.9 ...  ...  ((1.00), (TWO), (TWO), (8.9, -, 15.2), (Genera...\n",
              "4  $3.00 OFF when you purchase any THREE (3) Pepp...  ...  ((3.00), (THREE), (3), (Pepperidge, Farm), (Fa...\n",
              "\n",
              "[5 rows x 3 columns]"
            ]
          },
          "metadata": {
            "tags": []
          },
          "execution_count": 53
        }
      ]
    },
    {
      "cell_type": "markdown",
      "metadata": {
        "id": "a4q-kzKSz0Hn"
      },
      "source": [
        "\n",
        "Product column can be preprocessed furthor to achive the best result."
      ]
    },
    {
      "cell_type": "code",
      "metadata": {
        "id": "rfQ-iJLWz8Jd"
      },
      "source": [
        ""
      ],
      "execution_count": null,
      "outputs": []
    }
  ]
}